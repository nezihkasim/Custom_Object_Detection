{
  "nbformat": 4,
  "nbformat_minor": 0,
  "metadata": {
    "colab": {
      "name": "Bitirme",
      "provenance": [],
      "collapsed_sections": [
        "Jc-nB0EwQm4s",
        "1e7B82LRAq7j"
      ],
      "toc_visible": true
    },
    "kernelspec": {
      "name": "python3",
      "display_name": "Python 3"
    },
    "accelerator": "GPU"
  },
  "cells": [
    {
      "cell_type": "markdown",
      "metadata": {
        "id": "YcGX_RZquug4"
      },
      "source": [
        "# **STEP 1: Building the Yolov4 through darknet framework**"
      ]
    },
    {
      "cell_type": "code",
      "metadata": {
        "id": "oUWcxhjC1_Uz"
      },
      "source": [
        "# clone darknet repo\n",
        "!git clone https://github.com/AlexeyAB/darknet"
      ],
      "execution_count": null,
      "outputs": []
    },
    {
      "cell_type": "code",
      "metadata": {
        "id": "RH8Y9-MwNh4j"
      },
      "source": [
        "!ls"
      ],
      "execution_count": null,
      "outputs": []
    },
    {
      "cell_type": "code",
      "metadata": {
        "id": "Y60HoAWh4mxL"
      },
      "source": [
        "# changing the makefile to have GPU and OPENCV enabled\n",
        "%cd darknet\n",
        "!sed -i 's/OPENCV=0/OPENCV=1/' Makefile\n",
        "!sed -i 's/GPU=0/GPU=1/' Makefile\n",
        "!sed -i 's/CUDNN=0/CUDNN=1/' Makefile"
      ],
      "execution_count": null,
      "outputs": []
    },
    {
      "cell_type": "code",
      "metadata": {
        "id": "bwSFHllY4m9R"
      },
      "source": [
        "# verifying CUDA\n",
        "!/usr/local/cuda/bin/nvcc --version"
      ],
      "execution_count": null,
      "outputs": []
    },
    {
      "cell_type": "code",
      "metadata": {
        "id": "7BITlKV64nFW"
      },
      "source": [
        "# the process of make darknet\n",
        "!make"
      ],
      "execution_count": null,
      "outputs": []
    },
    {
      "cell_type": "markdown",
      "metadata": {
        "id": "kCQyqhNGuh1_"
      },
      "source": [
        "# **STEP 2: Defining the helper functions**"
      ]
    },
    {
      "cell_type": "code",
      "metadata": {
        "id": "edBIO66r4nY-"
      },
      "source": [
        "# define helper functions\n",
        "def imShow(path):\n",
        "  import cv2\n",
        "  import matplotlib.pyplot as plt\n",
        "  %matplotlib inline\n",
        "\n",
        "  image = cv2.imread(path)\n",
        "  height, width = image.shape[:2]\n",
        "  resized_image = cv2.resize(image,(3*width, 3*height), interpolation = cv2.INTER_CUBIC)\n",
        "\n",
        "  fig = plt.gcf()\n",
        "  fig.set_size_inches(18, 10)\n",
        "  plt.axis(\"off\")\n",
        "  plt.imshow(cv2.cvtColor(resized_image, cv2.COLOR_BGR2RGB))\n",
        "  plt.show()\n",
        "\n",
        "# use this to upload files\n",
        "def upload():\n",
        "  from google.colab import files\n",
        "  uploaded = files.upload() \n",
        "  for name, data in uploaded.items():\n",
        "    with open(name, 'wb') as f:\n",
        "      f.write(data)\n",
        "      print ('saved file', name)\n",
        "\n",
        "# use this to download a file  \n",
        "def download(path):\n",
        "  from google.colab import files\n",
        "  files.download(path)"
      ],
      "execution_count": null,
      "outputs": []
    },
    {
      "cell_type": "markdown",
      "metadata": {
        "id": "J4JhSdzwS6qS"
      },
      "source": [
        "# **Step 3: Mounting Google Drive**"
      ]
    },
    {
      "cell_type": "code",
      "metadata": {
        "id": "t6sXxRhrS6Rs"
      },
      "source": [
        "%cd ..\n",
        "from google.colab import drive\n",
        "drive.mount('/content/gdrive')"
      ],
      "execution_count": null,
      "outputs": []
    },
    {
      "cell_type": "code",
      "metadata": {
        "id": "j_qwqqPbQlVx"
      },
      "source": [
        "# this creates a symbolic link so that now the path /content/gdrive/My\\ Drive/ is equal to /mydrive\n",
        "!ln -s /content/gdrive/My\\ Drive/ /mydrive\n",
        "!ls /mydrive"
      ],
      "execution_count": null,
      "outputs": []
    },
    {
      "cell_type": "code",
      "metadata": {
        "id": "qNAb4ECshqOF"
      },
      "source": [
        "%ls"
      ],
      "execution_count": null,
      "outputs": []
    },
    {
      "cell_type": "markdown",
      "metadata": {
        "id": "qbmBTUgTBB6q"
      },
      "source": [
        "# **STEP 4: Gathering all needed files one by one**\n",
        "- Dataset\n",
        "- .cfg, .names, and .data files\n",
        "- generating train.txt file\n",
        "- pre-trained weights"
      ]
    },
    {
      "cell_type": "markdown",
      "metadata": {
        "id": "NBtozpgjtrg-"
      },
      "source": [
        "**NOTE: ** Uploading the files as zipped is the fast."
      ]
    },
    {
      "cell_type": "code",
      "metadata": {
        "id": "7cR5RDwk5mYB"
      },
      "source": [
        "# it is where the zip is. yolov3 folder is where the required files were located.)\n",
        "!ls /mydrive/yolov3"
      ],
      "execution_count": null,
      "outputs": []
    },
    {
      "cell_type": "code",
      "metadata": {
        "id": "XmUZ_2ub5meE"
      },
      "source": [
        "# copy the .zip file into the root directory of cloud VM\n",
        "!cp /mydrive/yolov3/obj.zip ./"
      ],
      "execution_count": null,
      "outputs": []
    },
    {
      "cell_type": "code",
      "metadata": {
        "id": "lyNB7_n3PSmV"
      },
      "source": [
        "\n",
        "%cd darknet"
      ],
      "execution_count": null,
      "outputs": []
    },
    {
      "cell_type": "code",
      "metadata": {
        "id": "U19U_Z3h5mk7"
      },
      "source": [
        "# unzip the zip file and its contents should now be in /darknet/data/obj\n",
        "!unzip ../obj.zip -d data/"
      ],
      "execution_count": null,
      "outputs": []
    },
    {
      "cell_type": "markdown",
      "metadata": {
        "id": "26nOc2Y6DTvW"
      },
      "source": [
        "step 3\n"
      ]
    },
    {
      "cell_type": "code",
      "metadata": {
        "id": "HykErTr05nBr"
      },
      "source": [
        "# upload the custom .cfg to cloud VM from Google Drive\n",
        "!cp /mydrive/yolov3/yolov3_custom.cfg ./cfg"
      ],
      "execution_count": null,
      "outputs": []
    },
    {
      "cell_type": "code",
      "metadata": {
        "id": "7KwMfj9hTVHp"
      },
      "source": [
        "!ls # darknet'in içindesin"
      ],
      "execution_count": null,
      "outputs": []
    },
    {
      "cell_type": "code",
      "metadata": {
        "id": "SfbF9JgR5m7n"
      },
      "source": [
        "# uploading the obj.names and obj.data files to cloud VM from Google Drive\n",
        "!cp /mydrive/yolov3/obj.names ./data\n",
        "!cp /mydrive/yolov3/obj.data  ./data"
      ],
      "execution_count": null,
      "outputs": []
    },
    {
      "cell_type": "code",
      "metadata": {
        "id": "zhx2Miy_5m6y"
      },
      "source": [
        "# uploading the generate_train.py script to cloud VM from Google Drive\n",
        "!cp /mydrive/yolov3/generate_train.py ./\n"
      ],
      "execution_count": null,
      "outputs": []
    },
    {
      "cell_type": "code",
      "metadata": {
        "id": "SgFw1dG4Vtt4"
      },
      "source": [
        "!ls # darknet'in içindesin\n"
      ],
      "execution_count": null,
      "outputs": []
    },
    {
      "cell_type": "code",
      "metadata": {
        "id": "bhsqai145m50"
      },
      "source": [
        "# Running the Python script that generates train.txt file.\n",
        "\n",
        "!python generate_train.py"
      ],
      "execution_count": null,
      "outputs": []
    },
    {
      "cell_type": "code",
      "metadata": {
        "id": "weUcNJPl5mwp"
      },
      "source": [
        "# verify train.txt can be seen in our darknet/data folder\n",
        "!ls data/"
      ],
      "execution_count": null,
      "outputs": []
    },
    {
      "cell_type": "code",
      "metadata": {
        "id": "A3VkrkaR5mvZ"
      },
      "source": [
        "# upload pretrained convolutional layer weights\n",
        "!wget http://pjreddie.com/media/files/darknet53.conv.74"
      ],
      "execution_count": null,
      "outputs": []
    },
    {
      "cell_type": "code",
      "metadata": {
        "id": "RtK06FzmZss4"
      },
      "source": [
        "!ls"
      ],
      "execution_count": null,
      "outputs": []
    },
    {
      "cell_type": "markdown",
      "metadata": {
        "id": "a3ggzfm_wSW1"
      },
      "source": [
        "# **STEP 5: Training**"
      ]
    },
    {
      "cell_type": "code",
      "metadata": {
        "id": "MFQeFZZkXYKX"
      },
      "source": [
        "# to train on the last .weights\n",
        "!cp /mydrive/yolov3/yolov3_custom_1000.weights ./"
      ],
      "execution_count": null,
      "outputs": []
    },
    {
      "cell_type": "code",
      "metadata": {
        "id": "l6H8IP_E4ndn"
      },
      "source": [
        "# train your custom detector\n",
        "!./darknet detector train data/obj.data cfg/yolov3_custom.cfg yolov3_custom_500.weights -dont_show"
      ],
      "execution_count": null,
      "outputs": []
    },
    {
      "cell_type": "code",
      "metadata": {
        "id": "lwLdcyCX4ngH"
      },
      "source": [
        "imShow('chart.png')"
      ],
      "execution_count": null,
      "outputs": []
    },
    {
      "cell_type": "code",
      "metadata": {
        "id": "46jfAvQzl-om"
      },
      "source": [
        "# uploading the last weight\n",
        "!cp /mydrive/yolov3/yolov3_custom_500.weights ./"
      ],
      "execution_count": null,
      "outputs": []
    },
    {
      "cell_type": "markdown",
      "metadata": {
        "id": "r_Cp70ZNnU1t"
      },
      "source": [
        "# **Step 6: Checking the Mean Average Precision (mAP) of Your Model**\n",
        "\n",
        "need to add 'test.txt'\n"
      ]
    },
    {
      "cell_type": "code",
      "metadata": {
        "id": "aQG8i39InnXl"
      },
      "source": [
        "!./darknet detector map data/obj.data cfg/yolov3_custom.cfg yolov3_custom_500.weights"
      ],
      "execution_count": null,
      "outputs": []
    },
    {
      "cell_type": "markdown",
      "metadata": {
        "id": "5mzXstS8oF7Q"
      },
      "source": [
        "# **Step 7: Testing the custom detector**\n"
      ]
    },
    {
      "cell_type": "code",
      "metadata": {
        "id": "RhsBXyVaokTr"
      },
      "source": [
        "!ls"
      ],
      "execution_count": null,
      "outputs": []
    },
    {
      "cell_type": "code",
      "metadata": {
        "id": "2YVZH1ZhmaZL"
      },
      "source": [
        "# need to set the cfg to test mode (batch=1 and subdivision=1) \n",
        "%cd cfg\n",
        "!sed -i 's/batch=64/batch=1/' yolov3_custom.cfg\n",
        "!sed -i 's/subdivisions=16/subdivisions=1/' yolov3_custom.cfg\n",
        "%cd .."
      ],
      "execution_count": null,
      "outputs": []
    },
    {
      "cell_type": "code",
      "metadata": {
        "id": "Snyrxj64o1uY"
      },
      "source": [
        "# test command. thresh flag sets accuracy that detection must be in order to show it)\n",
        "!./darknet detector test data/obj.data cfg/yolov3_custom.cfg yolov3_custom_1000.weights /mydrive/yolov3/test_images/01.jpg -thresh 0.1\n",
        "imShow('predictions.jpg')"
      ],
      "execution_count": null,
      "outputs": []
    },
    {
      "cell_type": "markdown",
      "metadata": {
        "id": "tYBbUpkUse_c"
      },
      "source": [
        "# **A Few More Test**"
      ]
    },
    {
      "cell_type": "code",
      "metadata": {
        "id": "7yCv5cE4qpfl"
      },
      "source": [
        "# test command. thresh flag sets accuracy that detection must be in order to show it)\n",
        "!./darknet detector test data/obj.data cfg/yolov3_custom.cfg yolov3_custom_1000.weights /mydrive/yolov3/test_images/02.jpg -thresh 0.1\n",
        "imShow('predictions.jpg')"
      ],
      "execution_count": null,
      "outputs": []
    },
    {
      "cell_type": "code",
      "metadata": {
        "id": "9al7S-q2qxos"
      },
      "source": [
        "# test command. thresh flag sets accuracy that detection must be in order to show it)\n",
        "!./darknet detector test data/obj.data cfg/yolov3_custom.cfg yolov3_custom_1000.weights /mydrive/yolov3/test_images/03.jpg  -thresh 0.1\n",
        "imShow('predictions.jpg')"
      ],
      "execution_count": null,
      "outputs": []
    },
    {
      "cell_type": "code",
      "metadata": {
        "id": "e-NtFeGBq364"
      },
      "source": [
        "# test command. thresh flag sets accuracy that detection must be in order to show it)\n",
        "!./darknet detector test data/obj.data cfg/yolov3_custom.cfg yolov3_custom_1000.weights /mydrive/yolov3/test_images/04.jpg -thresh 0.1\n",
        "imShow('predictions.jpg')"
      ],
      "execution_count": null,
      "outputs": []
    },
    {
      "cell_type": "code",
      "metadata": {
        "id": "Qt_IVbhsq4pP"
      },
      "source": [
        "# test command. thresh flag sets accuracy that detection must be in order to show it)\n",
        "!./darknet detector test data/obj.data cfg/yolov3_custom.cfg yolov3_custom_1000.weights /mydrive/yolov3/test_images/05.jpg -thresh 0.1\n",
        "imShow('predictions.jpg')"
      ],
      "execution_count": null,
      "outputs": []
    },
    {
      "cell_type": "code",
      "metadata": {
        "id": "kpR7NIjWq5O7"
      },
      "source": [
        "# test command. thresh flag sets accuracy that detection must be in order to show it)\n",
        "!./darknet detector test data/obj.data cfg/yolov3_custom.cfg yolov3_custom_1000.weights /mydrive/yolov3/test_images/06.jpg -thresh 0.1\n",
        "imShow('predictions.jpg')"
      ],
      "execution_count": null,
      "outputs": []
    },
    {
      "cell_type": "code",
      "metadata": {
        "id": "oYRYM3ZlrBCZ"
      },
      "source": [
        "# test command. thresh flag sets accuracy that detection must be in order to show it)\n",
        "!./darknet detector test data/obj.data cfg/yolov3_custom.cfg yolov3_custom_1000.weights /mydrive/yolov3/test_images/07.jpg -thresh 0.1\n",
        "imShow('predictions.jpg')"
      ],
      "execution_count": null,
      "outputs": []
    },
    {
      "cell_type": "code",
      "metadata": {
        "id": "-MYx5gFHrCpQ"
      },
      "source": [
        "# test command. thresh flag sets accuracy that detection must be in order to show it)\n",
        "!./darknet detector test data/obj.data cfg/yolov3_custom.cfg yolov3_custom_1000.weights /mydrive/yolov3/test_images/08.jpg -thresh 0.1\n",
        "imShow('predictions.jpg')"
      ],
      "execution_count": null,
      "outputs": []
    },
    {
      "cell_type": "code",
      "metadata": {
        "id": "MdUaQlKHrEey"
      },
      "source": [
        "# test command. thresh flag sets accuracy that detection must be in order to show it)\n",
        "!./darknet detector test data/obj.data cfg/yolov3_custom.cfg yolov3_custom_1000.weights /mydrive/yolov3/test_images/09.jpg -thresh 0.1\n",
        "imShow('predictions.jpg')"
      ],
      "execution_count": null,
      "outputs": []
    },
    {
      "cell_type": "code",
      "metadata": {
        "id": "66tnCZOHrHtE"
      },
      "source": [
        "# test command. thresh flag sets accuracy that detection must be in order to show it)\n",
        "!./darknet detector test data/obj.data cfg/yolov3_custom.cfg yolov3_custom_1000.weights /mydrive/yolov3/test_images/10.jpg -thresh 0.1\n",
        "imShow('predictions.jpg')"
      ],
      "execution_count": null,
      "outputs": []
    },
    {
      "cell_type": "code",
      "metadata": {
        "id": "rpQilVhbrIJA"
      },
      "source": [
        "# test command. thresh flag sets accuracy that detection must be in order to show it)\n",
        "!./darknet detector test data/obj.data cfg/yolov3_custom.cfg yolov3_custom_1000.weights /mydrive/yolov3/test_images/11.jpg -thresh 0.1\n",
        "imShow('predictions.jpg')"
      ],
      "execution_count": null,
      "outputs": []
    },
    {
      "cell_type": "code",
      "metadata": {
        "id": "tGD9uh2_7kxw"
      },
      "source": [
        "# test command. thresh flag sets accuracy that detection must be in order to show it)\n",
        "!./darknet detector test data/obj.data cfg/yolov3_custom.cfg yolov3_custom_1000.weights /mydrive/yolov3/test_images/12.jpg -thresh 0.1\n",
        "imShow('predictions.jpg')"
      ],
      "execution_count": null,
      "outputs": []
    },
    {
      "cell_type": "code",
      "metadata": {
        "id": "XmCI4NKg7nFs"
      },
      "source": [
        "# test command. thresh flag sets accuracy that detection must be in order to show it)\n",
        "!./darknet detector test data/obj.data cfg/yolov3_custom.cfg yolov3_custom_1000.weights /mydrive/yolov3/test_images/13.jpg -thresh 0.1\n",
        "imShow('predictions.jpg')"
      ],
      "execution_count": null,
      "outputs": []
    },
    {
      "cell_type": "code",
      "metadata": {
        "id": "2X5mYJN77sQH"
      },
      "source": [
        "# test command. thresh flag sets accuracy that detection must be in order to show it)\n",
        "!./darknet detector test data/obj.data cfg/yolov3_custom.cfg yolov3_custom_1000.weights /mydrive/yolov3/test_images/14.jpg -thresh 0.1\n",
        "imShow('predictions.jpg')"
      ],
      "execution_count": null,
      "outputs": []
    },
    {
      "cell_type": "code",
      "metadata": {
        "id": "66OZuyGo7tmy"
      },
      "source": [
        "# test command. thresh flag sets accuracy that detection must be in order to show it)\n",
        "!./darknet detector test data/obj.data cfg/yolov3_custom.cfg yolov3_custom_1000.weights /mydrive/yolov3/test_images/15.jpg -thresh 0.1\n",
        "imShow('predictions.jpg')"
      ],
      "execution_count": null,
      "outputs": []
    },
    {
      "cell_type": "code",
      "metadata": {
        "id": "G1g_mu2b7u6L"
      },
      "source": [
        "# test command. thresh flag sets accuracy that detection must be in order to show it)\n",
        "!./darknet detector test data/obj.data cfg/yolov3_custom.cfg yolov3_custom_1000.weights /mydrive/yolov3/test_images/16.jpg -thresh 0.1\n",
        "imShow('predictions.jpg')"
      ],
      "execution_count": null,
      "outputs": []
    },
    {
      "cell_type": "code",
      "metadata": {
        "id": "MJggMcOS7wEw"
      },
      "source": [
        "# test command. thresh flag sets accuracy that detection must be in order to show it)\n",
        "!./darknet detector test data/obj.data cfg/yolov3_custom.cfg yolov3_custom_1000.weights /mydrive/yolov3/test_images/17.jpg -thresh 0.1\n",
        "imShow('predictions.jpg')"
      ],
      "execution_count": null,
      "outputs": []
    },
    {
      "cell_type": "code",
      "metadata": {
        "id": "WayYxJFhKPat"
      },
      "source": [
        "%%shell\n",
        "ifconfig"
      ],
      "execution_count": null,
      "outputs": []
    }
  ]
}